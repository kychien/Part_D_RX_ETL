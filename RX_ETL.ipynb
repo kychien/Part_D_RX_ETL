{
 "cells": [
  {
   "cell_type": "markdown",
   "metadata": {},
   "source": [
    "# Medicare Part D - Prescription ETL\n",
    "---\n",
    "- placeholder text for description\n",
    "---\n",
    "### Dependencies and Setup"
   ]
  },
  {
   "cell_type": "code",
   "execution_count": null,
   "metadata": {},
   "outputs": [],
   "source": [
    "# TC\n"
   ]
  },
  {
   "cell_type": "code",
   "execution_count": null,
   "metadata": {},
   "outputs": [],
   "source": [
    "# EH\n"
   ]
  },
  {
   "cell_type": "code",
   "execution_count": null,
   "metadata": {},
   "outputs": [],
   "source": [
    "# TMI\n"
   ]
  },
  {
   "cell_type": "code",
   "execution_count": 1,
   "metadata": {},
   "outputs": [],
   "source": [
    "# GO\n",
    "import pandas as pd\n",
    "import numpy as np\n",
    "from functools import reduce\n",
    "import csv\n"
   ]
  },
  {
   "cell_type": "markdown",
   "metadata": {},
   "source": [
    "---\n",
    "## Extraction"
   ]
  },
  {
   "cell_type": "code",
   "execution_count": null,
   "metadata": {},
   "outputs": [],
   "source": [
    "# CMS Part D Prescriber Summary Reports\n"
   ]
  },
  {
   "cell_type": "code",
   "execution_count": null,
   "metadata": {},
   "outputs": [],
   "source": []
  },
  {
   "cell_type": "code",
   "execution_count": null,
   "metadata": {},
   "outputs": [],
   "source": [
    "# Medicaid.gov - National Average Drug Acquisition Cost\n"
   ]
  },
  {
   "cell_type": "code",
   "execution_count": 2,
   "metadata": {},
   "outputs": [],
   "source": [
    "file_csv = \"Raw/NADAC__National_Average_Drug_Acquisition_Cost_.csv\""
   ]
  },
  {
   "cell_type": "code",
   "execution_count": 3,
   "metadata": {},
   "outputs": [
    {
     "data": {
      "text/html": [
       "<div>\n",
       "<style scoped>\n",
       "    .dataframe tbody tr th:only-of-type {\n",
       "        vertical-align: middle;\n",
       "    }\n",
       "\n",
       "    .dataframe tbody tr th {\n",
       "        vertical-align: top;\n",
       "    }\n",
       "\n",
       "    .dataframe thead th {\n",
       "        text-align: right;\n",
       "    }\n",
       "</style>\n",
       "<table border=\"1\" class=\"dataframe\">\n",
       "  <thead>\n",
       "    <tr style=\"text-align: right;\">\n",
       "      <th></th>\n",
       "      <th>NDC Description</th>\n",
       "      <th>NDC</th>\n",
       "      <th>NADAC_Per_Unit</th>\n",
       "      <th>Effective_Date</th>\n",
       "      <th>Pricing_Unit</th>\n",
       "      <th>Pharmacy_Type_Indicator</th>\n",
       "      <th>OTC</th>\n",
       "      <th>Explanation_Code</th>\n",
       "      <th>Classification_for_Rate_Setting</th>\n",
       "      <th>Corresponding_Generic_Drug_NADAC_Per_Unit</th>\n",
       "      <th>Corresponding_Generic_Drug_Effective_Date</th>\n",
       "      <th>As of Date</th>\n",
       "    </tr>\n",
       "  </thead>\n",
       "  <tbody>\n",
       "    <tr>\n",
       "      <th>0</th>\n",
       "      <td>SIMVASTATIN 80 MG TABLET</td>\n",
       "      <td>16714068502</td>\n",
       "      <td>0.08008</td>\n",
       "      <td>03/23/2016</td>\n",
       "      <td>EA</td>\n",
       "      <td>C/I</td>\n",
       "      <td>N</td>\n",
       "      <td>1</td>\n",
       "      <td>G</td>\n",
       "      <td>NaN</td>\n",
       "      <td>NaN</td>\n",
       "      <td>04/13/2016</td>\n",
       "    </tr>\n",
       "    <tr>\n",
       "      <th>1</th>\n",
       "      <td>CARVEDILOL 12.5 MG TABLET</td>\n",
       "      <td>68382009405</td>\n",
       "      <td>0.03281</td>\n",
       "      <td>03/23/2016</td>\n",
       "      <td>EA</td>\n",
       "      <td>C/I</td>\n",
       "      <td>N</td>\n",
       "      <td>1</td>\n",
       "      <td>G</td>\n",
       "      <td>NaN</td>\n",
       "      <td>NaN</td>\n",
       "      <td>04/13/2016</td>\n",
       "    </tr>\n",
       "    <tr>\n",
       "      <th>2</th>\n",
       "      <td>CLONAZEPAM 1 MG TABLET</td>\n",
       "      <td>93083310</td>\n",
       "      <td>0.02619</td>\n",
       "      <td>03/23/2016</td>\n",
       "      <td>EA</td>\n",
       "      <td>C/I</td>\n",
       "      <td>N</td>\n",
       "      <td>1</td>\n",
       "      <td>G</td>\n",
       "      <td>NaN</td>\n",
       "      <td>NaN</td>\n",
       "      <td>04/13/2016</td>\n",
       "    </tr>\n",
       "    <tr>\n",
       "      <th>3</th>\n",
       "      <td>NAPHCON-A EYE DROPS</td>\n",
       "      <td>65008542</td>\n",
       "      <td>0.56743</td>\n",
       "      <td>12/23/2015</td>\n",
       "      <td>ML</td>\n",
       "      <td>C/I</td>\n",
       "      <td>Y</td>\n",
       "      <td>4, 5, 6</td>\n",
       "      <td>B</td>\n",
       "      <td>NaN</td>\n",
       "      <td>NaN</td>\n",
       "      <td>04/13/2016</td>\n",
       "    </tr>\n",
       "    <tr>\n",
       "      <th>4</th>\n",
       "      <td>OFLOXACIN 0.3% EAR DROPS</td>\n",
       "      <td>24208041005</td>\n",
       "      <td>17.27867</td>\n",
       "      <td>02/17/2016</td>\n",
       "      <td>ML</td>\n",
       "      <td>C/I</td>\n",
       "      <td>N</td>\n",
       "      <td>4, 5</td>\n",
       "      <td>G</td>\n",
       "      <td>NaN</td>\n",
       "      <td>NaN</td>\n",
       "      <td>04/13/2016</td>\n",
       "    </tr>\n",
       "  </tbody>\n",
       "</table>\n",
       "</div>"
      ],
      "text/plain": [
       "             NDC Description          NDC NADAC_Per_Unit Effective_Date  \\\n",
       "0   SIMVASTATIN 80 MG TABLET  16714068502        0.08008     03/23/2016   \n",
       "1  CARVEDILOL 12.5 MG TABLET  68382009405        0.03281     03/23/2016   \n",
       "2     CLONAZEPAM 1 MG TABLET     93083310        0.02619     03/23/2016   \n",
       "3        NAPHCON-A EYE DROPS     65008542        0.56743     12/23/2015   \n",
       "4   OFLOXACIN 0.3% EAR DROPS  24208041005       17.27867     02/17/2016   \n",
       "\n",
       "  Pricing_Unit Pharmacy_Type_Indicator OTC Explanation_Code  \\\n",
       "0           EA                     C/I   N                1   \n",
       "1           EA                     C/I   N                1   \n",
       "2           EA                     C/I   N                1   \n",
       "3           ML                     C/I   Y          4, 5, 6   \n",
       "4           ML                     C/I   N             4, 5   \n",
       "\n",
       "  Classification_for_Rate_Setting  Corresponding_Generic_Drug_NADAC_Per_Unit  \\\n",
       "0                               G                                        NaN   \n",
       "1                               G                                        NaN   \n",
       "2                               G                                        NaN   \n",
       "3                               B                                        NaN   \n",
       "4                               G                                        NaN   \n",
       "\n",
       "  Corresponding_Generic_Drug_Effective_Date  As of Date  \n",
       "0                                       NaN  04/13/2016  \n",
       "1                                       NaN  04/13/2016  \n",
       "2                                       NaN  04/13/2016  \n",
       "3                                       NaN  04/13/2016  \n",
       "4                                       NaN  04/13/2016  "
      ]
     },
     "execution_count": 3,
     "metadata": {},
     "output_type": "execute_result"
    }
   ],
   "source": [
    "file_csv_df = pd.read_csv(file_csv, encoding=\"ISO-8859-1\")\n",
    "file_csv_df.head()"
   ]
  },
  {
   "cell_type": "code",
   "execution_count": 4,
   "metadata": {},
   "outputs": [
    {
     "data": {
      "text/html": [
       "<div>\n",
       "<style scoped>\n",
       "    .dataframe tbody tr th:only-of-type {\n",
       "        vertical-align: middle;\n",
       "    }\n",
       "\n",
       "    .dataframe tbody tr th {\n",
       "        vertical-align: top;\n",
       "    }\n",
       "\n",
       "    .dataframe thead th {\n",
       "        text-align: right;\n",
       "    }\n",
       "</style>\n",
       "<table border=\"1\" class=\"dataframe\">\n",
       "  <thead>\n",
       "    <tr style=\"text-align: right;\">\n",
       "      <th></th>\n",
       "      <th>NDC Description</th>\n",
       "      <th>NADAC_Per_Unit</th>\n",
       "      <th>Effective_Date</th>\n",
       "      <th>Pricing_Unit</th>\n",
       "      <th>OTC</th>\n",
       "      <th>Classification_for_Rate_Setting</th>\n",
       "    </tr>\n",
       "  </thead>\n",
       "  <tbody>\n",
       "    <tr>\n",
       "      <th>0</th>\n",
       "      <td>SIMVASTATIN 80 MG TABLET</td>\n",
       "      <td>0.08008</td>\n",
       "      <td>03/23/2016</td>\n",
       "      <td>EA</td>\n",
       "      <td>N</td>\n",
       "      <td>G</td>\n",
       "    </tr>\n",
       "    <tr>\n",
       "      <th>1</th>\n",
       "      <td>CARVEDILOL 12.5 MG TABLET</td>\n",
       "      <td>0.03281</td>\n",
       "      <td>03/23/2016</td>\n",
       "      <td>EA</td>\n",
       "      <td>N</td>\n",
       "      <td>G</td>\n",
       "    </tr>\n",
       "    <tr>\n",
       "      <th>2</th>\n",
       "      <td>CLONAZEPAM 1 MG TABLET</td>\n",
       "      <td>0.02619</td>\n",
       "      <td>03/23/2016</td>\n",
       "      <td>EA</td>\n",
       "      <td>N</td>\n",
       "      <td>G</td>\n",
       "    </tr>\n",
       "    <tr>\n",
       "      <th>3</th>\n",
       "      <td>NAPHCON-A EYE DROPS</td>\n",
       "      <td>0.56743</td>\n",
       "      <td>12/23/2015</td>\n",
       "      <td>ML</td>\n",
       "      <td>Y</td>\n",
       "      <td>B</td>\n",
       "    </tr>\n",
       "    <tr>\n",
       "      <th>4</th>\n",
       "      <td>OFLOXACIN 0.3% EAR DROPS</td>\n",
       "      <td>17.27867</td>\n",
       "      <td>02/17/2016</td>\n",
       "      <td>ML</td>\n",
       "      <td>N</td>\n",
       "      <td>G</td>\n",
       "    </tr>\n",
       "  </tbody>\n",
       "</table>\n",
       "</div>"
      ],
      "text/plain": [
       "             NDC Description NADAC_Per_Unit Effective_Date Pricing_Unit OTC  \\\n",
       "0   SIMVASTATIN 80 MG TABLET        0.08008     03/23/2016           EA   N   \n",
       "1  CARVEDILOL 12.5 MG TABLET        0.03281     03/23/2016           EA   N   \n",
       "2     CLONAZEPAM 1 MG TABLET        0.02619     03/23/2016           EA   N   \n",
       "3        NAPHCON-A EYE DROPS        0.56743     12/23/2015           ML   Y   \n",
       "4   OFLOXACIN 0.3% EAR DROPS       17.27867     02/17/2016           ML   N   \n",
       "\n",
       "  Classification_for_Rate_Setting  \n",
       "0                               G  \n",
       "1                               G  \n",
       "2                               G  \n",
       "3                               B  \n",
       "4                               G  "
      ]
     },
     "execution_count": 4,
     "metadata": {},
     "output_type": "execute_result"
    }
   ],
   "source": [
    "to_drop = [\"NDC\",\"Pharmacy_Type_Indicator\",\"Explanation_Code\",\"Corresponding_Generic_Drug_NADAC_Per_Unit\",\"Corresponding_Generic_Drug_Effective_Date\",\"As of Date\"]\n",
    "\n",
    "file_csv_df.drop(to_drop, inplace = True, axis = 1)\n",
    "file_csv_df.head()"
   ]
  },
  {
   "cell_type": "code",
   "execution_count": null,
   "metadata": {},
   "outputs": [],
   "source": []
  },
  {
   "cell_type": "code",
   "execution_count": null,
   "metadata": {},
   "outputs": [],
   "source": [
    "# Q1Medicare\n",
    "q1_url = 'https://q1medicare.com/PartD-The-2019-Medicare-Part-D-Outlook.php#ME963C921251342D6BE66AB6E656C89F6'\n"
   ]
  },
  {
   "cell_type": "code",
   "execution_count": null,
   "metadata": {},
   "outputs": [],
   "source": []
  },
  {
   "cell_type": "code",
   "execution_count": null,
   "metadata": {},
   "outputs": [],
   "source": []
  },
  {
   "cell_type": "code",
   "execution_count": null,
   "metadata": {},
   "outputs": [],
   "source": []
  },
  {
   "cell_type": "code",
   "execution_count": null,
   "metadata": {},
   "outputs": [],
   "source": []
  },
  {
   "cell_type": "markdown",
   "metadata": {},
   "source": [
    "---\n",
    "## Transformation"
   ]
  },
  {
   "cell_type": "code",
   "execution_count": null,
   "metadata": {},
   "outputs": [],
   "source": [
    "# CMS Clean-up:\n"
   ]
  },
  {
   "cell_type": "code",
   "execution_count": null,
   "metadata": {},
   "outputs": [],
   "source": []
  },
  {
   "cell_type": "code",
   "execution_count": null,
   "metadata": {},
   "outputs": [],
   "source": []
  },
  {
   "cell_type": "code",
   "execution_count": null,
   "metadata": {},
   "outputs": [],
   "source": []
  },
  {
   "cell_type": "code",
   "execution_count": null,
   "metadata": {},
   "outputs": [],
   "source": [
    "# Medicaid Clean-up:\n"
   ]
  },
  {
   "cell_type": "code",
   "execution_count": null,
   "metadata": {},
   "outputs": [],
   "source": []
  },
  {
   "cell_type": "code",
   "execution_count": null,
   "metadata": {},
   "outputs": [],
   "source": []
  },
  {
   "cell_type": "code",
   "execution_count": null,
   "metadata": {},
   "outputs": [],
   "source": []
  },
  {
   "cell_type": "code",
   "execution_count": null,
   "metadata": {},
   "outputs": [],
   "source": []
  },
  {
   "cell_type": "code",
   "execution_count": null,
   "metadata": {},
   "outputs": [],
   "source": []
  },
  {
   "cell_type": "code",
   "execution_count": null,
   "metadata": {},
   "outputs": [],
   "source": [
    "# Q1 Clean-up:\n"
   ]
  },
  {
   "cell_type": "code",
   "execution_count": null,
   "metadata": {},
   "outputs": [],
   "source": []
  },
  {
   "cell_type": "code",
   "execution_count": null,
   "metadata": {},
   "outputs": [],
   "source": []
  },
  {
   "cell_type": "code",
   "execution_count": null,
   "metadata": {},
   "outputs": [],
   "source": []
  },
  {
   "cell_type": "code",
   "execution_count": null,
   "metadata": {},
   "outputs": [],
   "source": []
  },
  {
   "cell_type": "code",
   "execution_count": null,
   "metadata": {},
   "outputs": [],
   "source": []
  },
  {
   "cell_type": "markdown",
   "metadata": {},
   "source": [
    "---\n",
    "## Loading"
   ]
  },
  {
   "cell_type": "code",
   "execution_count": null,
   "metadata": {},
   "outputs": [],
   "source": []
  },
  {
   "cell_type": "code",
   "execution_count": null,
   "metadata": {},
   "outputs": [],
   "source": []
  },
  {
   "cell_type": "code",
   "execution_count": null,
   "metadata": {},
   "outputs": [],
   "source": []
  },
  {
   "cell_type": "code",
   "execution_count": null,
   "metadata": {},
   "outputs": [],
   "source": []
  },
  {
   "cell_type": "code",
   "execution_count": null,
   "metadata": {},
   "outputs": [],
   "source": []
  }
 ],
 "metadata": {
  "kernelspec": {
   "display_name": "Python 3",
   "language": "python",
   "name": "python3"
  },
  "language_info": {
   "codemirror_mode": {
    "name": "ipython",
    "version": 3
   },
   "file_extension": ".py",
   "mimetype": "text/x-python",
   "name": "python",
   "nbconvert_exporter": "python",
   "pygments_lexer": "ipython3",
   "version": "3.6.5"
  }
 },
 "nbformat": 4,
 "nbformat_minor": 2
}
