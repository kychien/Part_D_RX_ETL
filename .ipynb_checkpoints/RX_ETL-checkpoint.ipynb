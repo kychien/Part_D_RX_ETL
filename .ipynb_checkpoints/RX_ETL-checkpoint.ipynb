{
 "cells": [
  {
   "cell_type": "markdown",
   "metadata": {},
   "source": [
    "# Medicare Part D - Prescription ETL\n",
    "---\n",
    "- placeholder text for description\n",
    "---\n",
    "### Dependencies and Setup"
   ]
  },
  {
   "cell_type": "code",
   "execution_count": null,
   "metadata": {},
   "outputs": [],
   "source": [
    "# TC\n"
   ]
  },
  {
   "cell_type": "code",
   "execution_count": 6,
   "metadata": {},
   "outputs": [],
   "source": [
    "# EH\n",
    "import numpy as np\n",
    "import pandas as pd\n",
    "import os\n",
    "from pprint import pprint"
   ]
  },
  {
   "cell_type": "code",
   "execution_count": null,
   "metadata": {},
   "outputs": [],
   "source": [
    "# TMI\n"
   ]
  },
  {
   "cell_type": "code",
   "execution_count": null,
   "metadata": {},
   "outputs": [],
   "source": [
    "# GO\n"
   ]
  },
  {
   "cell_type": "markdown",
   "metadata": {},
   "source": [
    "---\n",
    "## Extraction"
   ]
  },
  {
   "cell_type": "code",
   "execution_count": 4,
   "metadata": {},
   "outputs": [
    {
     "data": {
      "text/html": [
       "<div>\n",
       "<style scoped>\n",
       "    .dataframe tbody tr th:only-of-type {\n",
       "        vertical-align: middle;\n",
       "    }\n",
       "\n",
       "    .dataframe tbody tr th {\n",
       "        vertical-align: top;\n",
       "    }\n",
       "\n",
       "    .dataframe thead th {\n",
       "        text-align: right;\n",
       "    }\n",
       "</style>\n",
       "<table border=\"1\" class=\"dataframe\">\n",
       "  <thead>\n",
       "    <tr style=\"text-align: right;\">\n",
       "      <th></th>\n",
       "      <th>Drug Name</th>\n",
       "      <th>Generic Name</th>\n",
       "      <th>Number of Prescribers</th>\n",
       "      <th>Number of Medicare Part D Claims</th>\n",
       "      <th>Number of Standardized 30-Day Part D Fills</th>\n",
       "      <th>Aggregate Cost Paid for Part D Claims</th>\n",
       "      <th>Number of Medicare Beneficiaries</th>\n",
       "      <th>GE65 Suppression Flag</th>\n",
       "      <th>Number of Medicare Part D Claims for Beneficiaries 65+</th>\n",
       "      <th>Number of Standardized 30-Day Part D Fills for Beneficiaries 65+</th>\n",
       "      <th>Aggregate Cost Paid for Part D Claims for Beneficiaries 65+</th>\n",
       "      <th>Beneficiary 65+ Suppression Flag</th>\n",
       "      <th>Number of Medicare Beneficiaries 65+</th>\n",
       "      <th>Aggregate Cost Share for Beneficiaries with Low Income Subsidy</th>\n",
       "      <th>Aggregate Cost Share for Beneficiaries with No Low Income Subsidy</th>\n",
       "      <th>Opioid Drug Flag</th>\n",
       "      <th>Extended-Release Opioid Drug Flag</th>\n",
       "      <th>Antibiotic Drug Flag</th>\n",
       "      <th>Antipsychotic Drug Flag</th>\n",
       "    </tr>\n",
       "  </thead>\n",
       "  <tbody>\n",
       "    <tr>\n",
       "      <th>0</th>\n",
       "      <td>1ST TIER UNIFINE PENTIPS</td>\n",
       "      <td>PEN NEEDLE, DIABETIC</td>\n",
       "      <td>2832.0</td>\n",
       "      <td>8913</td>\n",
       "      <td>14253.8</td>\n",
       "      <td>216273.87</td>\n",
       "      <td>3428.0</td>\n",
       "      <td>NaN</td>\n",
       "      <td>6665.0</td>\n",
       "      <td>10961.8</td>\n",
       "      <td>160300.93</td>\n",
       "      <td>NaN</td>\n",
       "      <td>2599.0</td>\n",
       "      <td>9209.09</td>\n",
       "      <td>44253.44</td>\n",
       "      <td>N</td>\n",
       "      <td>N</td>\n",
       "      <td>N</td>\n",
       "      <td>N</td>\n",
       "    </tr>\n",
       "    <tr>\n",
       "      <th>1</th>\n",
       "      <td>1ST TIER UNIFINE PENTIPS PLUS</td>\n",
       "      <td>PEN NEEDLE, DIABETIC</td>\n",
       "      <td>5048.0</td>\n",
       "      <td>14610</td>\n",
       "      <td>25998.3</td>\n",
       "      <td>378040.97</td>\n",
       "      <td>6564.0</td>\n",
       "      <td>NaN</td>\n",
       "      <td>11088.0</td>\n",
       "      <td>20230.7</td>\n",
       "      <td>285670.63</td>\n",
       "      <td>NaN</td>\n",
       "      <td>5023.0</td>\n",
       "      <td>12805.19</td>\n",
       "      <td>83730.89</td>\n",
       "      <td>N</td>\n",
       "      <td>N</td>\n",
       "      <td>N</td>\n",
       "      <td>N</td>\n",
       "    </tr>\n",
       "    <tr>\n",
       "      <th>2</th>\n",
       "      <td>ABACAVIR</td>\n",
       "      <td>ABACAVIR SULFATE</td>\n",
       "      <td>5650.0</td>\n",
       "      <td>66707</td>\n",
       "      <td>73303.6</td>\n",
       "      <td>19384433.39</td>\n",
       "      <td>9007.0</td>\n",
       "      <td>NaN</td>\n",
       "      <td>22814.0</td>\n",
       "      <td>26105.0</td>\n",
       "      <td>6750386.75</td>\n",
       "      <td>NaN</td>\n",
       "      <td>3034.0</td>\n",
       "      <td>41654.01</td>\n",
       "      <td>406354.27</td>\n",
       "      <td>N</td>\n",
       "      <td>N</td>\n",
       "      <td>N</td>\n",
       "      <td>N</td>\n",
       "    </tr>\n",
       "    <tr>\n",
       "      <th>3</th>\n",
       "      <td>ABACAVIR-LAMIVUDINE</td>\n",
       "      <td>ABACAVIR SULFATE/LAMIVUDINE</td>\n",
       "      <td>3257.0</td>\n",
       "      <td>13903</td>\n",
       "      <td>14875.2</td>\n",
       "      <td>14752760.25</td>\n",
       "      <td>6629.0</td>\n",
       "      <td>NaN</td>\n",
       "      <td>4538.0</td>\n",
       "      <td>5060.3</td>\n",
       "      <td>4949203.56</td>\n",
       "      <td>NaN</td>\n",
       "      <td>2184.0</td>\n",
       "      <td>2751.36</td>\n",
       "      <td>92745.45</td>\n",
       "      <td>N</td>\n",
       "      <td>N</td>\n",
       "      <td>N</td>\n",
       "      <td>N</td>\n",
       "    </tr>\n",
       "    <tr>\n",
       "      <th>4</th>\n",
       "      <td>ABACAVIR-LAMIVUDINE-ZIDOVUDINE</td>\n",
       "      <td>ABACAVIR/LAMIVUDINE/ZIDOVUDINE</td>\n",
       "      <td>1270.0</td>\n",
       "      <td>9768</td>\n",
       "      <td>10378.4</td>\n",
       "      <td>12787721.57</td>\n",
       "      <td>1333.0</td>\n",
       "      <td>NaN</td>\n",
       "      <td>3463.0</td>\n",
       "      <td>3835.8</td>\n",
       "      <td>4681177.83</td>\n",
       "      <td>NaN</td>\n",
       "      <td>480.0</td>\n",
       "      <td>21947.69</td>\n",
       "      <td>324389.79</td>\n",
       "      <td>N</td>\n",
       "      <td>N</td>\n",
       "      <td>N</td>\n",
       "      <td>N</td>\n",
       "    </tr>\n",
       "  </tbody>\n",
       "</table>\n",
       "</div>"
      ],
      "text/plain": [
       "                        Drug Name                    Generic Name  \\\n",
       "0        1ST TIER UNIFINE PENTIPS            PEN NEEDLE, DIABETIC   \n",
       "1   1ST TIER UNIFINE PENTIPS PLUS            PEN NEEDLE, DIABETIC   \n",
       "2                        ABACAVIR                ABACAVIR SULFATE   \n",
       "3             ABACAVIR-LAMIVUDINE     ABACAVIR SULFATE/LAMIVUDINE   \n",
       "4  ABACAVIR-LAMIVUDINE-ZIDOVUDINE  ABACAVIR/LAMIVUDINE/ZIDOVUDINE   \n",
       "\n",
       "    Number of Prescribers    Number of Medicare Part D Claims   \\\n",
       "0                   2832.0                                8913   \n",
       "1                   5048.0                               14610   \n",
       "2                   5650.0                               66707   \n",
       "3                   3257.0                               13903   \n",
       "4                   1270.0                                9768   \n",
       "\n",
       "    Number of Standardized 30-Day Part D Fills   \\\n",
       "0                                       14253.8   \n",
       "1                                       25998.3   \n",
       "2                                       73303.6   \n",
       "3                                       14875.2   \n",
       "4                                       10378.4   \n",
       "\n",
       "   Aggregate Cost Paid for Part D Claims   Number of Medicare Beneficiaries   \\\n",
       "0                              216273.87                              3428.0   \n",
       "1                              378040.97                              6564.0   \n",
       "2                            19384433.39                              9007.0   \n",
       "3                            14752760.25                              6629.0   \n",
       "4                            12787721.57                              1333.0   \n",
       "\n",
       "   GE65 Suppression Flag   \\\n",
       "0                     NaN   \n",
       "1                     NaN   \n",
       "2                     NaN   \n",
       "3                     NaN   \n",
       "4                     NaN   \n",
       "\n",
       "    Number of Medicare Part D Claims for Beneficiaries 65+   \\\n",
       "0                                             6665.0          \n",
       "1                                            11088.0          \n",
       "2                                            22814.0          \n",
       "3                                             4538.0          \n",
       "4                                             3463.0          \n",
       "\n",
       "    Number of Standardized 30-Day Part D Fills for Beneficiaries 65+   \\\n",
       "0                                            10961.8                    \n",
       "1                                            20230.7                    \n",
       "2                                            26105.0                    \n",
       "3                                             5060.3                    \n",
       "4                                             3835.8                    \n",
       "\n",
       "   Aggregate Cost Paid for Part D Claims for Beneficiaries 65+  \\\n",
       "0                                          160300.93             \n",
       "1                                          285670.63             \n",
       "2                                         6750386.75             \n",
       "3                                         4949203.56             \n",
       "4                                         4681177.83             \n",
       "\n",
       "   Beneficiary 65+ Suppression Flag    Number of Medicare Beneficiaries 65+   \\\n",
       "0                                NaN                                  2599.0   \n",
       "1                                NaN                                  5023.0   \n",
       "2                                NaN                                  3034.0   \n",
       "3                                NaN                                  2184.0   \n",
       "4                                NaN                                   480.0   \n",
       "\n",
       "   Aggregate Cost Share for Beneficiaries with Low Income Subsidy  \\\n",
       "0                                            9209.09                \n",
       "1                                           12805.19                \n",
       "2                                           41654.01                \n",
       "3                                            2751.36                \n",
       "4                                           21947.69                \n",
       "\n",
       "   Aggregate Cost Share for Beneficiaries with No Low Income Subsidy  \\\n",
       "0                                           44253.44                   \n",
       "1                                           83730.89                   \n",
       "2                                          406354.27                   \n",
       "3                                           92745.45                   \n",
       "4                                          324389.79                   \n",
       "\n",
       "   Opioid Drug Flag  Extended-Release Opioid Drug Flag  Antibiotic Drug Flag   \\\n",
       "0                  N                                 N                      N   \n",
       "1                  N                                 N                      N   \n",
       "2                  N                                 N                      N   \n",
       "3                  N                                 N                      N   \n",
       "4                  N                                 N                      N   \n",
       "\n",
       "   Antipsychotic Drug Flag   \n",
       "0                         N  \n",
       "1                         N  \n",
       "2                         N  \n",
       "3                         N  \n",
       "4                         N  "
      ]
     },
     "execution_count": 4,
     "metadata": {},
     "output_type": "execute_result"
    }
   ],
   "source": [
    "# CMS Part D Prescriber Summary Reports\n",
    "#load\n",
    "cms_path = os.path.join('.', 'Raw', 'part-d-prescriber-national-summary-report-calendar-year-2016.csv')\n",
    "prescriber_df = pd.read_csv(cms_path)\n",
    "\n",
    "#display table format\n",
    "prescriber_df.head()"
   ]
  },
  {
   "cell_type": "code",
   "execution_count": 10,
   "metadata": {},
   "outputs": [
    {
     "name": "stdout",
     "output_type": "stream",
     "text": [
      "Index(['Drug Name', 'Generic Name', ' Number of Prescribers ',\n",
      "       ' Number of Medicare Part D Claims ',\n",
      "       ' Number of Standardized 30-Day Part D Fills ',\n",
      "       'Aggregate Cost Paid for Part D Claims',\n",
      "       ' Number of Medicare Beneficiaries ', ' GE65 Suppression Flag ',\n",
      "       ' Number of Medicare Part D Claims for Beneficiaries 65+ ',\n",
      "       ' Number of Standardized 30-Day Part D Fills for Beneficiaries 65+ ',\n",
      "       'Aggregate Cost Paid for Part D Claims for Beneficiaries 65+',\n",
      "       ' Beneficiary 65+ Suppression Flag ',\n",
      "       ' Number of Medicare Beneficiaries 65+ ',\n",
      "       'Aggregate Cost Share for Beneficiaries with Low Income Subsidy',\n",
      "       'Aggregate Cost Share for Beneficiaries with No Low Income Subsidy',\n",
      "       ' Opioid Drug Flag ', 'Extended-Release Opioid Drug Flag',\n",
      "       ' Antibiotic Drug Flag ', ' Antipsychotic Drug Flag '],\n",
      "      dtype='object')\n"
     ]
    }
   ],
   "source": [
    "#inspect column names\n",
    "pprint(prescriber_df.columns)"
   ]
  },
  {
   "cell_type": "code",
   "execution_count": null,
   "metadata": {},
   "outputs": [],
   "source": [
    "# Medicaid.gov - National Average Drug Acquisition Cost\n"
   ]
  },
  {
   "cell_type": "code",
   "execution_count": null,
   "metadata": {},
   "outputs": [],
   "source": []
  },
  {
   "cell_type": "code",
   "execution_count": null,
   "metadata": {},
   "outputs": [],
   "source": [
    "# Q1Medicare\n",
    "q1_url = 'https://q1medicare.com/PartD-The-2019-Medicare-Part-D-Outlook.php#ME963C921251342D6BE66AB6E656C89F6'\n"
   ]
  },
  {
   "cell_type": "code",
   "execution_count": null,
   "metadata": {},
   "outputs": [],
   "source": []
  },
  {
   "cell_type": "code",
   "execution_count": null,
   "metadata": {},
   "outputs": [],
   "source": []
  },
  {
   "cell_type": "code",
   "execution_count": null,
   "metadata": {},
   "outputs": [],
   "source": []
  },
  {
   "cell_type": "code",
   "execution_count": null,
   "metadata": {},
   "outputs": [],
   "source": []
  },
  {
   "cell_type": "markdown",
   "metadata": {},
   "source": [
    "---\n",
    "## Transformation"
   ]
  },
  {
   "cell_type": "code",
   "execution_count": 8,
   "metadata": {},
   "outputs": [
    {
     "name": "stdout",
     "output_type": "stream",
     "text": [
      "['Drug Name',\n",
      " 'Generic Name',\n",
      " 'Number of Prescribers',\n",
      " 'Number of Medicare Part D Claims',\n",
      " 'Number of Standardized 30-Day Part D Fills',\n",
      " 'Aggregate Cost Paid for Part D Claims',\n",
      " 'Number of Medicare Beneficiaries',\n",
      " 'GE65 Suppression Flag',\n",
      " 'Number of Medicare Part D Claims for Beneficiaries 65+',\n",
      " 'Number of Standardized 30-Day Part D Fills for Beneficiaries 65+',\n",
      " 'Aggregate Cost Paid for Part D Claims for Beneficiaries 65+',\n",
      " 'Beneficiary 65+ Suppression Flag',\n",
      " 'Number of Medicare Beneficiaries 65+',\n",
      " 'Aggregate Cost Share for Beneficiaries with Low Income Subsidy',\n",
      " 'Aggregate Cost Share for Beneficiaries with No Low Income Subsidy',\n",
      " 'Opioid Drug Flag',\n",
      " 'Extended-Release Opioid Drug Flag',\n",
      " 'Antibiotic Drug Flag',\n",
      " 'Antipsychotic Drug Flag']\n"
     ]
    }
   ],
   "source": [
    "# CMS Clean-up:\n",
    "#need to rename columns\n",
    "red_col_names = [col.strip() for col in prescriber_df.columns]\n",
    "pprint(red_col_names)"
   ]
  },
  {
   "cell_type": "code",
   "execution_count": 11,
   "metadata": {},
   "outputs": [
    {
     "name": "stdout",
     "output_type": "stream",
     "text": [
      "Index(['Drug Name', 'Generic Name', 'Number of Prescribers',\n",
      "       'Number of Medicare Part D Claims',\n",
      "       'Number of Standardized 30-Day Part D Fills',\n",
      "       'Aggregate Cost Paid for Part D Claims',\n",
      "       'Number of Medicare Beneficiaries', 'GE65 Suppression Flag',\n",
      "       'Number of Medicare Part D Claims for Beneficiaries 65+',\n",
      "       'Number of Standardized 30-Day Part D Fills for Beneficiaries 65+',\n",
      "       'Aggregate Cost Paid for Part D Claims for Beneficiaries 65+',\n",
      "       'Beneficiary 65+ Suppression Flag',\n",
      "       'Number of Medicare Beneficiaries 65+',\n",
      "       'Aggregate Cost Share for Beneficiaries with Low Income Subsidy',\n",
      "       'Aggregate Cost Share for Beneficiaries with No Low Income Subsidy',\n",
      "       'Opioid Drug Flag', 'Extended-Release Opioid Drug Flag',\n",
      "       'Antibiotic Drug Flag', 'Antipsychotic Drug Flag'],\n",
      "      dtype='object')\n"
     ]
    }
   ],
   "source": [
    "#rename columns\n",
    "prescriber_df.columns = red_col_names\n",
    "pprint(prescriber_df.columns)"
   ]
  },
  {
   "cell_type": "code",
   "execution_count": 12,
   "metadata": {},
   "outputs": [
    {
     "data": {
      "text/plain": [
       "#    160\n",
       "*    151\n",
       "Name: GE65 Suppression Flag, dtype: int64"
      ]
     },
     "execution_count": 12,
     "metadata": {},
     "output_type": "execute_result"
    }
   ],
   "source": [
    "#look at values in GE65 Suppression Flag Column\n",
    "prescriber_df['GE65 Suppression Flag'].value_counts()"
   ]
  },
  {
   "cell_type": "code",
   "execution_count": 14,
   "metadata": {},
   "outputs": [
    {
     "data": {
      "text/plain": [
       "N    3301\n",
       "Y      92\n",
       "Name: Opioid Drug Flag, dtype: int64"
      ]
     },
     "execution_count": 14,
     "metadata": {},
     "output_type": "execute_result"
    }
   ],
   "source": [
    "#look at values in a opiod drug flag column\n",
    "prescriber_df['Opioid Drug Flag'].value_counts()"
   ]
  },
  {
   "cell_type": "code",
   "execution_count": 17,
   "metadata": {},
   "outputs": [
    {
     "data": {
      "text/plain": [
       "N    3215\n",
       "Y     178\n",
       "Name: Antibiotic Drug Flag, dtype: int64"
      ]
     },
     "execution_count": 17,
     "metadata": {},
     "output_type": "execute_result"
    }
   ],
   "source": [
    "#look at values in antibiotic drug flag column\n",
    "prescriber_df['Antibiotic Drug Flag'].value_counts()"
   ]
  },
  {
   "cell_type": "code",
   "execution_count": 20,
   "metadata": {},
   "outputs": [],
   "source": [
    "#turn flag columns into booleans\n",
    "prescriber_df.loc[:, 'Opioid Drug Flag'] = [(True if flag == 'Y' else False) for flag in prescriber_df.loc[:, 'Opioid Drug Flag']]\n",
    "prescriber_df.loc[:, 'Extended-Release Opioid Drug Flag'] = [(True if flag == 'Y' else False) for flag in prescriber_df.loc[:, 'Extended-Release Opioid Drug Flag']]\n",
    "prescriber_df.loc[:, 'Antibiotic Drug Flag'] = [(True if flag == 'Y' else False) for flag in prescriber_df.loc[:, 'Antibiotic Drug Flag']]\n",
    "prescriber_df.loc[:, 'Antipsychotic Drug Flag'] = [(True if flag == 'Y' else False) for flag in prescriber_df.loc[:, 'Antipsychotic Drug Flag']]"
   ]
  },
  {
   "cell_type": "code",
   "execution_count": 23,
   "metadata": {},
   "outputs": [],
   "source": [
    "#drop unnecessary columns\n",
    "final_prescriber_df = prescriber_df.drop(['Beneficiary 65+ Suppression Flag', 'GE65 Suppression Flag'], axis = 1)"
   ]
  },
  {
   "cell_type": "code",
   "execution_count": 24,
   "metadata": {},
   "outputs": [
    {
     "data": {
      "text/html": [
       "<div>\n",
       "<style scoped>\n",
       "    .dataframe tbody tr th:only-of-type {\n",
       "        vertical-align: middle;\n",
       "    }\n",
       "\n",
       "    .dataframe tbody tr th {\n",
       "        vertical-align: top;\n",
       "    }\n",
       "\n",
       "    .dataframe thead th {\n",
       "        text-align: right;\n",
       "    }\n",
       "</style>\n",
       "<table border=\"1\" class=\"dataframe\">\n",
       "  <thead>\n",
       "    <tr style=\"text-align: right;\">\n",
       "      <th></th>\n",
       "      <th>Drug Name</th>\n",
       "      <th>Generic Name</th>\n",
       "      <th>Number of Prescribers</th>\n",
       "      <th>Number of Medicare Part D Claims</th>\n",
       "      <th>Number of Standardized 30-Day Part D Fills</th>\n",
       "      <th>Aggregate Cost Paid for Part D Claims</th>\n",
       "      <th>Number of Medicare Beneficiaries</th>\n",
       "      <th>Number of Medicare Part D Claims for Beneficiaries 65+</th>\n",
       "      <th>Number of Standardized 30-Day Part D Fills for Beneficiaries 65+</th>\n",
       "      <th>Aggregate Cost Paid for Part D Claims for Beneficiaries 65+</th>\n",
       "      <th>Number of Medicare Beneficiaries 65+</th>\n",
       "      <th>Aggregate Cost Share for Beneficiaries with Low Income Subsidy</th>\n",
       "      <th>Aggregate Cost Share for Beneficiaries with No Low Income Subsidy</th>\n",
       "      <th>Opioid Drug Flag</th>\n",
       "      <th>Extended-Release Opioid Drug Flag</th>\n",
       "      <th>Antibiotic Drug Flag</th>\n",
       "      <th>Antipsychotic Drug Flag</th>\n",
       "    </tr>\n",
       "  </thead>\n",
       "  <tbody>\n",
       "    <tr>\n",
       "      <th>0</th>\n",
       "      <td>1ST TIER UNIFINE PENTIPS</td>\n",
       "      <td>PEN NEEDLE, DIABETIC</td>\n",
       "      <td>2832.0</td>\n",
       "      <td>8913</td>\n",
       "      <td>14253.8</td>\n",
       "      <td>216273.87</td>\n",
       "      <td>3428.0</td>\n",
       "      <td>6665.0</td>\n",
       "      <td>10961.8</td>\n",
       "      <td>160300.93</td>\n",
       "      <td>2599.0</td>\n",
       "      <td>9209.09</td>\n",
       "      <td>44253.44</td>\n",
       "      <td>False</td>\n",
       "      <td>False</td>\n",
       "      <td>False</td>\n",
       "      <td>False</td>\n",
       "    </tr>\n",
       "    <tr>\n",
       "      <th>1</th>\n",
       "      <td>1ST TIER UNIFINE PENTIPS PLUS</td>\n",
       "      <td>PEN NEEDLE, DIABETIC</td>\n",
       "      <td>5048.0</td>\n",
       "      <td>14610</td>\n",
       "      <td>25998.3</td>\n",
       "      <td>378040.97</td>\n",
       "      <td>6564.0</td>\n",
       "      <td>11088.0</td>\n",
       "      <td>20230.7</td>\n",
       "      <td>285670.63</td>\n",
       "      <td>5023.0</td>\n",
       "      <td>12805.19</td>\n",
       "      <td>83730.89</td>\n",
       "      <td>False</td>\n",
       "      <td>False</td>\n",
       "      <td>False</td>\n",
       "      <td>False</td>\n",
       "    </tr>\n",
       "    <tr>\n",
       "      <th>2</th>\n",
       "      <td>ABACAVIR</td>\n",
       "      <td>ABACAVIR SULFATE</td>\n",
       "      <td>5650.0</td>\n",
       "      <td>66707</td>\n",
       "      <td>73303.6</td>\n",
       "      <td>19384433.39</td>\n",
       "      <td>9007.0</td>\n",
       "      <td>22814.0</td>\n",
       "      <td>26105.0</td>\n",
       "      <td>6750386.75</td>\n",
       "      <td>3034.0</td>\n",
       "      <td>41654.01</td>\n",
       "      <td>406354.27</td>\n",
       "      <td>False</td>\n",
       "      <td>False</td>\n",
       "      <td>False</td>\n",
       "      <td>False</td>\n",
       "    </tr>\n",
       "    <tr>\n",
       "      <th>3</th>\n",
       "      <td>ABACAVIR-LAMIVUDINE</td>\n",
       "      <td>ABACAVIR SULFATE/LAMIVUDINE</td>\n",
       "      <td>3257.0</td>\n",
       "      <td>13903</td>\n",
       "      <td>14875.2</td>\n",
       "      <td>14752760.25</td>\n",
       "      <td>6629.0</td>\n",
       "      <td>4538.0</td>\n",
       "      <td>5060.3</td>\n",
       "      <td>4949203.56</td>\n",
       "      <td>2184.0</td>\n",
       "      <td>2751.36</td>\n",
       "      <td>92745.45</td>\n",
       "      <td>False</td>\n",
       "      <td>False</td>\n",
       "      <td>False</td>\n",
       "      <td>False</td>\n",
       "    </tr>\n",
       "    <tr>\n",
       "      <th>4</th>\n",
       "      <td>ABACAVIR-LAMIVUDINE-ZIDOVUDINE</td>\n",
       "      <td>ABACAVIR/LAMIVUDINE/ZIDOVUDINE</td>\n",
       "      <td>1270.0</td>\n",
       "      <td>9768</td>\n",
       "      <td>10378.4</td>\n",
       "      <td>12787721.57</td>\n",
       "      <td>1333.0</td>\n",
       "      <td>3463.0</td>\n",
       "      <td>3835.8</td>\n",
       "      <td>4681177.83</td>\n",
       "      <td>480.0</td>\n",
       "      <td>21947.69</td>\n",
       "      <td>324389.79</td>\n",
       "      <td>False</td>\n",
       "      <td>False</td>\n",
       "      <td>False</td>\n",
       "      <td>False</td>\n",
       "    </tr>\n",
       "  </tbody>\n",
       "</table>\n",
       "</div>"
      ],
      "text/plain": [
       "                        Drug Name                    Generic Name  \\\n",
       "0        1ST TIER UNIFINE PENTIPS            PEN NEEDLE, DIABETIC   \n",
       "1   1ST TIER UNIFINE PENTIPS PLUS            PEN NEEDLE, DIABETIC   \n",
       "2                        ABACAVIR                ABACAVIR SULFATE   \n",
       "3             ABACAVIR-LAMIVUDINE     ABACAVIR SULFATE/LAMIVUDINE   \n",
       "4  ABACAVIR-LAMIVUDINE-ZIDOVUDINE  ABACAVIR/LAMIVUDINE/ZIDOVUDINE   \n",
       "\n",
       "   Number of Prescribers  Number of Medicare Part D Claims  \\\n",
       "0                 2832.0                              8913   \n",
       "1                 5048.0                             14610   \n",
       "2                 5650.0                             66707   \n",
       "3                 3257.0                             13903   \n",
       "4                 1270.0                              9768   \n",
       "\n",
       "   Number of Standardized 30-Day Part D Fills  \\\n",
       "0                                     14253.8   \n",
       "1                                     25998.3   \n",
       "2                                     73303.6   \n",
       "3                                     14875.2   \n",
       "4                                     10378.4   \n",
       "\n",
       "   Aggregate Cost Paid for Part D Claims  Number of Medicare Beneficiaries  \\\n",
       "0                              216273.87                            3428.0   \n",
       "1                              378040.97                            6564.0   \n",
       "2                            19384433.39                            9007.0   \n",
       "3                            14752760.25                            6629.0   \n",
       "4                            12787721.57                            1333.0   \n",
       "\n",
       "   Number of Medicare Part D Claims for Beneficiaries 65+  \\\n",
       "0                                             6665.0        \n",
       "1                                            11088.0        \n",
       "2                                            22814.0        \n",
       "3                                             4538.0        \n",
       "4                                             3463.0        \n",
       "\n",
       "   Number of Standardized 30-Day Part D Fills for Beneficiaries 65+  \\\n",
       "0                                            10961.8                  \n",
       "1                                            20230.7                  \n",
       "2                                            26105.0                  \n",
       "3                                             5060.3                  \n",
       "4                                             3835.8                  \n",
       "\n",
       "   Aggregate Cost Paid for Part D Claims for Beneficiaries 65+  \\\n",
       "0                                          160300.93             \n",
       "1                                          285670.63             \n",
       "2                                         6750386.75             \n",
       "3                                         4949203.56             \n",
       "4                                         4681177.83             \n",
       "\n",
       "   Number of Medicare Beneficiaries 65+  \\\n",
       "0                                2599.0   \n",
       "1                                5023.0   \n",
       "2                                3034.0   \n",
       "3                                2184.0   \n",
       "4                                 480.0   \n",
       "\n",
       "   Aggregate Cost Share for Beneficiaries with Low Income Subsidy  \\\n",
       "0                                            9209.09                \n",
       "1                                           12805.19                \n",
       "2                                           41654.01                \n",
       "3                                            2751.36                \n",
       "4                                           21947.69                \n",
       "\n",
       "   Aggregate Cost Share for Beneficiaries with No Low Income Subsidy  \\\n",
       "0                                           44253.44                   \n",
       "1                                           83730.89                   \n",
       "2                                          406354.27                   \n",
       "3                                           92745.45                   \n",
       "4                                          324389.79                   \n",
       "\n",
       "   Opioid Drug Flag  Extended-Release Opioid Drug Flag  Antibiotic Drug Flag  \\\n",
       "0             False                              False                 False   \n",
       "1             False                              False                 False   \n",
       "2             False                              False                 False   \n",
       "3             False                              False                 False   \n",
       "4             False                              False                 False   \n",
       "\n",
       "   Antipsychotic Drug Flag  \n",
       "0                    False  \n",
       "1                    False  \n",
       "2                    False  \n",
       "3                    False  \n",
       "4                    False  "
      ]
     },
     "execution_count": 24,
     "metadata": {},
     "output_type": "execute_result"
    }
   ],
   "source": [
    "#see dataframe\n",
    "final_prescriber_df.head()"
   ]
  },
  {
   "cell_type": "code",
   "execution_count": null,
   "metadata": {},
   "outputs": [],
   "source": [
    "# Medicaid Clean-up:\n"
   ]
  },
  {
   "cell_type": "code",
   "execution_count": null,
   "metadata": {},
   "outputs": [],
   "source": []
  },
  {
   "cell_type": "code",
   "execution_count": null,
   "metadata": {},
   "outputs": [],
   "source": []
  },
  {
   "cell_type": "code",
   "execution_count": null,
   "metadata": {},
   "outputs": [],
   "source": []
  },
  {
   "cell_type": "code",
   "execution_count": null,
   "metadata": {},
   "outputs": [],
   "source": []
  },
  {
   "cell_type": "code",
   "execution_count": null,
   "metadata": {},
   "outputs": [],
   "source": []
  },
  {
   "cell_type": "code",
   "execution_count": null,
   "metadata": {},
   "outputs": [],
   "source": [
    "# Q1 Clean-up:\n"
   ]
  },
  {
   "cell_type": "code",
   "execution_count": null,
   "metadata": {},
   "outputs": [],
   "source": []
  },
  {
   "cell_type": "code",
   "execution_count": null,
   "metadata": {},
   "outputs": [],
   "source": []
  },
  {
   "cell_type": "code",
   "execution_count": null,
   "metadata": {},
   "outputs": [],
   "source": []
  },
  {
   "cell_type": "code",
   "execution_count": null,
   "metadata": {},
   "outputs": [],
   "source": []
  },
  {
   "cell_type": "code",
   "execution_count": null,
   "metadata": {},
   "outputs": [],
   "source": []
  },
  {
   "cell_type": "markdown",
   "metadata": {},
   "source": [
    "---\n",
    "## Loading"
   ]
  },
  {
   "cell_type": "code",
   "execution_count": null,
   "metadata": {},
   "outputs": [],
   "source": []
  },
  {
   "cell_type": "code",
   "execution_count": null,
   "metadata": {},
   "outputs": [],
   "source": []
  },
  {
   "cell_type": "code",
   "execution_count": null,
   "metadata": {},
   "outputs": [],
   "source": []
  },
  {
   "cell_type": "code",
   "execution_count": null,
   "metadata": {},
   "outputs": [],
   "source": []
  },
  {
   "cell_type": "code",
   "execution_count": null,
   "metadata": {},
   "outputs": [],
   "source": []
  }
 ],
 "metadata": {
  "kernelspec": {
   "display_name": "Python 3",
   "language": "python",
   "name": "python3"
  },
  "language_info": {
   "codemirror_mode": {
    "name": "ipython",
    "version": 3
   },
   "file_extension": ".py",
   "mimetype": "text/x-python",
   "name": "python",
   "nbconvert_exporter": "python",
   "pygments_lexer": "ipython3",
   "version": "3.6.5"
  }
 },
 "nbformat": 4,
 "nbformat_minor": 2
}
